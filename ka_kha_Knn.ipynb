{
 "cells": [
  {
   "cell_type": "markdown",
   "metadata": {},
   "source": [
    "# Character Classification using KNN"
   ]
  },
  {
   "cell_type": "code",
   "execution_count": 11,
   "metadata": {},
   "outputs": [
    {
     "name": "stdout",
     "output_type": "stream",
     "text": [
      "[INFO] processed 5000/23061\n",
      "[INFO] processed 10000/23061\n",
      "[INFO] processed 15000/23061\n",
      "[INFO] processed 20000/23061\n",
      "\n",
      "[INFO] features matrix: 141.2MB\n"
     ]
    }
   ],
   "source": [
    "\n",
    "import os, glob\n",
    "os.environ['TF_CPP_MIN_LOG_LEVEL']='2'\n",
    "\n",
    "import os\n",
    "import cv2\n",
    "import numpy as np\n",
    "from imutils import paths\n",
    "from sklearn.preprocessing import LabelEncoder\n",
    "from sklearn.model_selection import train_test_split\n",
    "\n",
    "import imageio\n",
    "\t\n",
    "\n",
    "import numpy as np\n",
    "import os\n",
    "import scipy.ndimage\n",
    "from skimage.feature import hog\n",
    "from skimage import data, color, exposure\n",
    "from sklearn.model_selection import  train_test_split\n",
    "from sklearn.neighbors import KNeighborsClassifier\n",
    "from sklearn.externals import joblib\n",
    "\n",
    "img_height, img_width = 28, 28\n",
    "CHANNELS=1\n",
    "num_classes = 10\n",
    "\n",
    "def get_data(imagePaths, verbose=100):\n",
    "    # initialize the list of features and labels\n",
    "    data = []\n",
    "    labels = []\n",
    "\n",
    "    # loop over the input images\n",
    "    for (i, imagePath) in enumerate(imagePaths):\n",
    "        # load the image and extract the class label assuming\n",
    "        # that our path has the following format:\n",
    "        # /path/to/dataset/{class}/{image}.jpg  \n",
    "        if os.path.exists(imagePath):\n",
    "\n",
    "            # preprocess image for black and white\n",
    "            image_gray = cv2.imread(imagePath, cv2.IMREAD_GRAYSCALE)\n",
    "            \n",
    "            training_digit_image = imageio.imread(imagePath)\n",
    "            training_digit_image = color.rgb2gray(training_digit_image)\n",
    "            # imginvert = cv2.bitwise_not(image_gray)\n",
    "            image = cv2.resize(training_digit_image, (img_height, img_width))\n",
    "            \n",
    "            # get image class\n",
    "            label = imagePath.split(os.path.sep)[-2]\n",
    "\n",
    "            # treat our processed image as a \"feature vector\"\n",
    "            # by updating the data list followed by the labels\n",
    "            data.append(image)\n",
    "            labels.append(label)\n",
    "\n",
    "            # show an update every ‘verbose‘ images\n",
    "            if verbose > 0 and i > 0 and (i + 1) % verbose == 0:\n",
    "                print(\"[INFO] processed {}/{}\".format(i + 1, len(imagePaths)))\n",
    "\n",
    "    # shuffle variables\n",
    "    data_sh = []\n",
    "    labels_sh = []\n",
    "\n",
    "    from random import shuffle\n",
    "    index_data = list(range(len(data)))\n",
    "    \n",
    "    # shuffle\n",
    "    #print(\"Shuffling data and labels list.\")\n",
    "    #shuffle(index_data)\n",
    "\n",
    "    for i in index_data:\n",
    "        data_sh.append(data[i])\n",
    "        labels_sh.append(labels[i])\n",
    "\n",
    "    data = data_sh\n",
    "    labels = labels_sh\n",
    "    \n",
    "    data = np.array(data)\n",
    "    labels = np.array(labels)\n",
    "\n",
    "    data = data.reshape((data.shape[0], img_height * img_width))\n",
    "\n",
    "    # show some information on memory consumption of the images\n",
    "    print(\"\\n[INFO] features matrix: {:.1f}MB\".format(data.nbytes / (1024 * 1000.0)))\n",
    "\n",
    "    # encode the labels as integers\n",
    "    le = LabelEncoder()\n",
    "    labels = le.fit_transform(labels)\n",
    "\n",
    "    # return a tuple of the data and labels\n",
    "    return data, labels\n",
    "\n",
    "if __name__ == \"__main__\" :\n",
    "    imagePaths = list(paths.list_images('./dataset_ka_kha'))\n",
    "    data, labels = get_data(imagePaths, 5000)"
   ]
  },
  {
   "cell_type": "code",
   "execution_count": 2,
   "metadata": {},
   "outputs": [],
   "source": [
    "x_train, x_test, y_train, y_test = train_test_split(data, labels)"
   ]
  },
  {
   "cell_type": "code",
   "execution_count": 3,
   "metadata": {},
   "outputs": [
    {
     "data": {
      "text/plain": [
       "(17295, 784)"
      ]
     },
     "execution_count": 3,
     "metadata": {},
     "output_type": "execute_result"
    }
   ],
   "source": [
    "x_train.shape"
   ]
  },
  {
   "cell_type": "code",
   "execution_count": 4,
   "metadata": {},
   "outputs": [],
   "source": [
    "x_train = x_train.astype('float32')\n",
    "x_test = x_test.astype('float32')"
   ]
  },
  {
   "cell_type": "code",
   "execution_count": 8,
   "metadata": {},
   "outputs": [
    {
     "data": {
      "text/plain": [
       "KNeighborsClassifier(algorithm='auto', leaf_size=30, metric='minkowski',\n",
       "                     metric_params=None, n_jobs=None, n_neighbors=7, p=2,\n",
       "                     weights='uniform')"
      ]
     },
     "execution_count": 8,
     "metadata": {},
     "output_type": "execute_result"
    }
   ],
   "source": [
    "knn = KNeighborsClassifier(n_neighbors = 7)\n",
    "knn.fit(x_train, y_train)"
   ]
  },
  {
   "cell_type": "code",
   "execution_count": 9,
   "metadata": {},
   "outputs": [],
   "source": [
    "model_score = knn.score(x_test, y_test)"
   ]
  },
  {
   "cell_type": "code",
   "execution_count": 10,
   "metadata": {},
   "outputs": [
    {
     "data": {
      "text/plain": [
       "0.934616718695803"
      ]
     },
     "execution_count": 10,
     "metadata": {},
     "output_type": "execute_result"
    }
   ],
   "source": [
    "model_score"
   ]
  },
  {
   "cell_type": "code",
   "execution_count": null,
   "metadata": {},
   "outputs": [],
   "source": []
  },
  {
   "cell_type": "code",
   "execution_count": null,
   "metadata": {},
   "outputs": [],
   "source": []
  }
 ],
 "metadata": {
  "kernelspec": {
   "display_name": "Python 3",
   "language": "python",
   "name": "python3"
  },
  "language_info": {
   "codemirror_mode": {
    "name": "ipython",
    "version": 3
   },
   "file_extension": ".py",
   "mimetype": "text/x-python",
   "name": "python",
   "nbconvert_exporter": "python",
   "pygments_lexer": "ipython3",
   "version": "3.7.3"
  }
 },
 "nbformat": 4,
 "nbformat_minor": 2
}
